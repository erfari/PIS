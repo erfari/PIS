{
  "nbformat": 4,
  "nbformat_minor": 0,
  "metadata": {
    "colab": {
      "name": "Untitled1.ipynb",
      "provenance": [],
      "collapsed_sections": []
    },
    "kernelspec": {
      "name": "python3",
      "display_name": "Python 3"
    }
  },
  "cells": [
    {
      "cell_type": "code",
      "metadata": {
        "id": "l2VB42lEa-Kf",
        "colab_type": "code",
        "colab": {}
      },
      "source": [
        "%tensorflow_version 1.x\n",
        "import tensorflow as tf\n",
        "from tensorflow . examples . tutorials . mnist import input_data\n"
      ],
      "execution_count": 0,
      "outputs": []
    },
    {
      "cell_type": "code",
      "metadata": {
        "id": "I0RxHK4BbSz3",
        "colab_type": "code",
        "outputId": "ef2b0844-dae9-47bd-ddb0-87478ec2f61a",
        "colab": {
          "base_uri": "https://localhost:8080/",
          "height": 173
        }
      },
      "source": [
        "DATA_DIR = 'tmp/data'\n",
        "NUM_STEPS = 1000\n",
        "MINIBATCH_SIZE = 100\n",
        "LEARNING_RATE = 0.5\n",
        "data = input_data.read_data_sets( DATA_DIR ,one_hot = True)\n",
        "x = tf.placeholder(tf.float32 ,[ None ,784])\n",
        "W = tf.Variable(tf.zeros([784 ,10]))\n",
        "b = tf.Variable(tf.zeros([10]) ,dtype =tf.float32)\n",
        "e = tf.constant(2.71, dtype=tf.float32)\n",
        "y_true = tf.placeholder(tf.float32 ,[ None , 10])\n",
        "y_pred = 1 / (1 + e ** (tf.matmul(x ,W) + b))\n",
        "cross_entropy = tf.reduce_mean(tf.nn.softmax_cross_entropy_with_logits (\n",
        "logits = y_pred ,labels = y_true))\n",
        "gd_step = tf.train.GradientDescentOptimizer(LEARNING_RATE).minimize(cross_entropy)\n",
        "correct_mask = tf.equal(tf.argmax(y_pred ,1),tf.argmax(y_true , 1))\n",
        "accuracy = tf.reduce_mean(tf.cast(correct_mask ,tf.float32))\n",
        "with tf.Session() as sess :\n",
        "# Train\n",
        "  sess.run(tf.global_variables_initializer())\n",
        "  for i in range (NUM_STEPS):\n",
        "    batch_x ,batch_y = data.train.next_batch (MINIBATCH_SIZE)\n",
        "    sess.run (gd_step ,feed_dict = {x :batch_x ,y_true : batch_y})\n",
        "    ans = sess.run ( accuracy ,feed_dict ={x : data.test.images,\n",
        "y_true : data.test.labels})\n",
        "\n",
        "print(\"Accuracy : {:.4}% \".format(ans*100))"
      ],
      "execution_count": 0,
      "outputs": [
        {
          "output_type": "stream",
          "text": [
            "Extracting tmp/data/train-images-idx3-ubyte.gz\n",
            "Extracting tmp/data/train-labels-idx1-ubyte.gz\n",
            "Extracting tmp/data/t10k-images-idx3-ubyte.gz\n",
            "Extracting tmp/data/t10k-labels-idx1-ubyte.gz\n",
            "WARNING:tensorflow:From /usr/local/lib/python3.6/dist-packages/tensorflow_core/python/ops/math_grad.py:1375: where (from tensorflow.python.ops.array_ops) is deprecated and will be removed in a future version.\n",
            "Instructions for updating:\n",
            "Use tf.where in 2.0, which has the same broadcast rule as np.where\n",
            "Accuracy : 88.67% \n"
          ],
          "name": "stdout"
        }
      ]
    },
    {
      "cell_type": "code",
      "metadata": {
        "id": "CJunut69bUnR",
        "colab_type": "code",
        "colab": {}
      },
      "source": [
        ""
      ],
      "execution_count": 0,
      "outputs": []
    },
    {
      "cell_type": "code",
      "metadata": {
        "id": "jyn6NnwvcT_J",
        "colab_type": "code",
        "outputId": "de555176-a7a8-4285-b521-8c439d4f626d",
        "colab": {
          "base_uri": "https://localhost:8080/",
          "height": 224
        }
      },
      "source": [
        "DATA_DIR = 'tmp/data'\n",
        "NUM_STEPS = 1000\n",
        "MINIBATCH_SIZE = 100\n",
        "LEARNING_RATE = 0.5\n",
        "L1 = 200\n",
        "L2 = 100\n",
        "L3 = 60\n",
        "L4 = 30\n",
        "L5 = 10\n",
        "data = input_data.read_data_sets(DATA_DIR ,one_hot = True)\n",
        "x = tf.placeholder(tf.float32 ,[ None ,784])\n",
        "l1 = tf.layers.dense(x ,L1 ,activation = tf.nn.relu ,use_bias = True)\n",
        "l2 = tf.layers.dense(l1 ,L2 ,activation = tf.nn.relu ,use_bias = True)\n",
        "l3 = tf.layers.dense(l2 ,L3 ,activation = tf.nn.relu ,use_bias = True)\n",
        "l4 = tf.layers.dense(l3 ,L4 ,activation = tf.nn.relu ,use_bias = True)\n",
        "y_pred = tf.layers.dense(l4 ,L5 ,activation = tf.nn.relu ,use_bias = True)\n",
        "y_true = tf.placeholder(tf.float32 ,[None ,10])\n",
        "cross_entropy = tf.reduce_mean(tf.nn.softmax_cross_entropy_with_logits(\n",
        "logits = y_pred, labels = y_true ))\n",
        "gd_step = tf.train.GradientDescentOptimizer(LEARNING_RATE).minimize(cross_entropy)\n",
        "correct_mask = tf.equal(tf.argmax(y_pred ,1),tf.argmax(y_true ,1))\n",
        "accuracy = tf.reduce_mean(tf.cast(correct_mask ,tf.float32))\n",
        "with tf.Session() as sess:\n",
        "# Train\n",
        "  sess.run(tf.global_variables_initializer())\n",
        "  for i in range(NUM_STEPS):\n",
        "    batch_x ,batch_y = data.train.next_batch(MINIBATCH_SIZE)\n",
        "    sess.run(gd_step ,feed_dict = { x:batch_x , y_true : batch_y})\n",
        "    ans = sess.run(accuracy ,feed_dict ={ x : data.test.images ,\n",
        "    y_true : data.test.labels})\n",
        "\n",
        "print (\" Accuracy : {:.4}% \". format ( ans *100))"
      ],
      "execution_count": 0,
      "outputs": [
        {
          "output_type": "stream",
          "text": [
            "Extracting tmp/data/train-images-idx3-ubyte.gz\n",
            "Extracting tmp/data/train-labels-idx1-ubyte.gz\n",
            "Extracting tmp/data/t10k-images-idx3-ubyte.gz\n",
            "Extracting tmp/data/t10k-labels-idx1-ubyte.gz\n",
            "WARNING:tensorflow:From <ipython-input-19-b3670a61caa8>:12: dense (from tensorflow.python.layers.core) is deprecated and will be removed in a future version.\n",
            "Instructions for updating:\n",
            "Use keras.layers.Dense instead.\n",
            "WARNING:tensorflow:From /usr/local/lib/python3.6/dist-packages/tensorflow_core/python/layers/core.py:187: Layer.apply (from tensorflow.python.keras.engine.base_layer) is deprecated and will be removed in a future version.\n",
            "Instructions for updating:\n",
            "Please use `layer.__call__` method instead.\n",
            " Accuracy : 84.46% \n"
          ],
          "name": "stdout"
        }
      ]
    },
    {
      "cell_type": "code",
      "metadata": {
        "id": "yud5UBi7ciwC",
        "colab_type": "code",
        "colab": {}
      },
      "source": [
        ""
      ],
      "execution_count": 0,
      "outputs": []
    }
  ]
}