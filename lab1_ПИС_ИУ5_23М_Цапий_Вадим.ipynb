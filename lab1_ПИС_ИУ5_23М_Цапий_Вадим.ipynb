{
  "nbformat": 4,
  "nbformat_minor": 0,
  "metadata": {
    "colab": {
      "name": "lab1 ПИС ИУ5-23М Цапий Вадим.ipynb",
      "provenance": []
    },
    "kernelspec": {
      "name": "python3",
      "display_name": "Python 3"
    }
  },
  "cells": [
    {
      "cell_type": "code",
      "metadata": {
        "id": "9vOM5e_RnPnr",
        "colab_type": "code",
        "outputId": "aff5afc1-d7b4-4269-c0c0-41533a32eaa3",
        "colab": {
          "base_uri": "https://localhost:8080/",
          "height": 34
        }
      },
      "source": [
        "%tensorflow_version 1.x\n",
        "import tensorflow as tf"
      ],
      "execution_count": 0,
      "outputs": [
        {
          "output_type": "stream",
          "text": [
            "TensorFlow 1.x selected.\n"
          ],
          "name": "stdout"
        }
      ]
    },
    {
      "cell_type": "code",
      "metadata": {
        "id": "xuR-qOmJnbLC",
        "colab_type": "code",
        "outputId": "ea008a5d-22f2-4172-b115-5c7f0d4bd49b",
        "colab": {
          "base_uri": "https://localhost:8080/",
          "height": 34
        }
      },
      "source": [
        "default_graph = tf.get_default_graph()\n",
        "a = tf.constant(1.0)\n",
        "b = tf.constant(2.0)\n",
        "y = tf.add(a,b)\n",
        "\n",
        "with tf. Session () as session :\n",
        "    print(y.eval())"
      ],
      "execution_count": 0,
      "outputs": [
        {
          "output_type": "stream",
          "text": [
            "3.0\n"
          ],
          "name": "stdout"
        }
      ]
    },
    {
      "cell_type": "code",
      "metadata": {
        "id": "95H6-V20niw9",
        "colab_type": "code",
        "colab": {}
      },
      "source": [
        ""
      ],
      "execution_count": 0,
      "outputs": []
    }
  ]
}